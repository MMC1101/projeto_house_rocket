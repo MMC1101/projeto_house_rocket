{
 "cells": [
  {
   "cell_type": "code",
   "execution_count": 37,
   "id": "c28ffdfd",
   "metadata": {
    "ExecuteTime": {
     "end_time": "2022-07-10T18:19:50.422935Z",
     "start_time": "2022-07-10T18:19:48.769390Z"
    }
   },
   "outputs": [],
   "source": [
    "import csv \n",
    "import pandas as pd\n",
    "import numpy as np\n",
    "import plotly.express as px\n"
   ]
  },
  {
   "cell_type": "code",
   "execution_count": 38,
   "id": "18f7b412",
   "metadata": {
    "ExecuteTime": {
     "end_time": "2022-07-10T18:19:50.438282Z",
     "start_time": "2022-07-10T18:19:50.424929Z"
    }
   },
   "outputs": [
    {
     "data": {
      "text/plain": [
       "'c:\\\\Users\\\\mathe\\\\Desktop\\\\PowerBi\\\\Comunidade_DS\\\\curso_python_zero_ds\\\\modulo_2'"
      ]
     },
     "execution_count": 38,
     "metadata": {},
     "output_type": "execute_result"
    }
   ],
   "source": [
    "pwd!"
   ]
  },
  {
   "cell_type": "code",
   "execution_count": 39,
   "id": "0fb4b2b1",
   "metadata": {
    "ExecuteTime": {
     "end_time": "2022-07-10T18:19:50.532335Z",
     "start_time": "2022-07-10T18:19:50.441275Z"
    }
   },
   "outputs": [],
   "source": [
    "\n",
    "filepath = 'base_de_dados_mod_2/kc_house_data.csv'\n",
    "\n",
    "data = pd.read_csv(filepath)\n",
    "\n",
    "# mostra quantidade de número de linhas e de colunas a função se chama nome_da_coluna.shape"
   ]
  },
  {
   "cell_type": "code",
   "execution_count": 40,
   "id": "8c47acda",
   "metadata": {
    "ExecuteTime": {
     "end_time": "2022-07-10T18:19:50.548024Z",
     "start_time": "2022-07-10T18:19:50.536259Z"
    }
   },
   "outputs": [],
   "source": [
    "## comando para vizualizar de forma ordenada os dados da coluna de preço \n",
    "\n",
    "#data = data[['id', 'price']].sort_values('price', ascending=False)\n",
    "#print(data)"
   ]
  },
  {
   "cell_type": "markdown",
   "id": "ef3c971f",
   "metadata": {},
   "source": [
    "## Resolução dos exercícios\n",
    "\n",
    "### Novas perguntas do CEO para vocês\n",
    "\n",
    "\n",
    "* Quantas casas estão disponíveis para compra ? \n",
    "* Quantos atributos as casas possuem ? \n",
    "* Quais são os atributos das casas ? \n",
    "* Qual a casa mais cara (casa com maior valor de venda) ? \n",
    "* Qual a casa com maior número de quartos ? \n",
    "* Qual a soma total de quartos do conjunto de dados ? \n",
    "* Quantas casas possuem 2 banheiros?\n",
    "* Qual o preço médio de todas as casas no conjunto de dados?\n",
    "* Qual o preço médio de casas com 2 banheiros?\n",
    "* Qual o preço mínimo entre as casas com 3 quartos?\n",
    "* Quantas casas possuem mais de 300 metros quadrados na sala de estar?\n",
    "* Quantas casas tem mais de 2 andares?\n",
    "* Quantas casas tem vista para o mar?\n",
    "* Das casas com vista para o mar, quantas tem 3 quartos?\n",
    "* Das casas com mais de 300 metros quadrados de sala de estar, quantas tem mais de 2 banheiros?"
   ]
  },
  {
   "cell_type": "markdown",
   "id": "b5e50a2b",
   "metadata": {
    "ExecuteTime": {
     "end_time": "2022-07-04T21:14:59.603503Z",
     "start_time": "2022-07-04T21:14:59.597520Z"
    }
   },
   "source": [
    "### 1. Quantas casas estão disponíveis para compra ? \n"
   ]
  },
  {
   "cell_type": "code",
   "execution_count": 41,
   "id": "217ccab4",
   "metadata": {
    "ExecuteTime": {
     "end_time": "2022-07-10T18:19:50.626874Z",
     "start_time": "2022-07-10T18:19:50.549980Z"
    }
   },
   "outputs": [
    {
     "data": {
      "text/html": [
       "<div>\n",
       "<style scoped>\n",
       "    .dataframe tbody tr th:only-of-type {\n",
       "        vertical-align: middle;\n",
       "    }\n",
       "\n",
       "    .dataframe tbody tr th {\n",
       "        vertical-align: top;\n",
       "    }\n",
       "\n",
       "    .dataframe thead th {\n",
       "        text-align: right;\n",
       "    }\n",
       "</style>\n",
       "<table border=\"1\" class=\"dataframe\">\n",
       "  <thead>\n",
       "    <tr style=\"text-align: right;\">\n",
       "      <th></th>\n",
       "      <th>id</th>\n",
       "      <th>date</th>\n",
       "      <th>price</th>\n",
       "      <th>bedrooms</th>\n",
       "      <th>bathrooms</th>\n",
       "      <th>sqft_living</th>\n",
       "      <th>sqft_lot</th>\n",
       "      <th>floors</th>\n",
       "      <th>waterfront</th>\n",
       "      <th>view</th>\n",
       "      <th>...</th>\n",
       "      <th>grade</th>\n",
       "      <th>sqft_above</th>\n",
       "      <th>sqft_basement</th>\n",
       "      <th>yr_built</th>\n",
       "      <th>yr_renovated</th>\n",
       "      <th>zipcode</th>\n",
       "      <th>lat</th>\n",
       "      <th>long</th>\n",
       "      <th>sqft_living15</th>\n",
       "      <th>sqft_lot15</th>\n",
       "    </tr>\n",
       "  </thead>\n",
       "  <tbody>\n",
       "    <tr>\n",
       "      <th>0</th>\n",
       "      <td>7129300520</td>\n",
       "      <td>20141013T000000</td>\n",
       "      <td>221900.0</td>\n",
       "      <td>3</td>\n",
       "      <td>1.00</td>\n",
       "      <td>1180</td>\n",
       "      <td>5650</td>\n",
       "      <td>1.0</td>\n",
       "      <td>0</td>\n",
       "      <td>0</td>\n",
       "      <td>...</td>\n",
       "      <td>7</td>\n",
       "      <td>1180</td>\n",
       "      <td>0</td>\n",
       "      <td>1955</td>\n",
       "      <td>0</td>\n",
       "      <td>98178</td>\n",
       "      <td>47.5112</td>\n",
       "      <td>-122.257</td>\n",
       "      <td>1340</td>\n",
       "      <td>5650</td>\n",
       "    </tr>\n",
       "    <tr>\n",
       "      <th>1</th>\n",
       "      <td>6414100192</td>\n",
       "      <td>20141209T000000</td>\n",
       "      <td>538000.0</td>\n",
       "      <td>3</td>\n",
       "      <td>2.25</td>\n",
       "      <td>2570</td>\n",
       "      <td>7242</td>\n",
       "      <td>2.0</td>\n",
       "      <td>0</td>\n",
       "      <td>0</td>\n",
       "      <td>...</td>\n",
       "      <td>7</td>\n",
       "      <td>2170</td>\n",
       "      <td>400</td>\n",
       "      <td>1951</td>\n",
       "      <td>1991</td>\n",
       "      <td>98125</td>\n",
       "      <td>47.7210</td>\n",
       "      <td>-122.319</td>\n",
       "      <td>1690</td>\n",
       "      <td>7639</td>\n",
       "    </tr>\n",
       "    <tr>\n",
       "      <th>2</th>\n",
       "      <td>5631500400</td>\n",
       "      <td>20150225T000000</td>\n",
       "      <td>180000.0</td>\n",
       "      <td>2</td>\n",
       "      <td>1.00</td>\n",
       "      <td>770</td>\n",
       "      <td>10000</td>\n",
       "      <td>1.0</td>\n",
       "      <td>0</td>\n",
       "      <td>0</td>\n",
       "      <td>...</td>\n",
       "      <td>6</td>\n",
       "      <td>770</td>\n",
       "      <td>0</td>\n",
       "      <td>1933</td>\n",
       "      <td>0</td>\n",
       "      <td>98028</td>\n",
       "      <td>47.7379</td>\n",
       "      <td>-122.233</td>\n",
       "      <td>2720</td>\n",
       "      <td>8062</td>\n",
       "    </tr>\n",
       "    <tr>\n",
       "      <th>3</th>\n",
       "      <td>2487200875</td>\n",
       "      <td>20141209T000000</td>\n",
       "      <td>604000.0</td>\n",
       "      <td>4</td>\n",
       "      <td>3.00</td>\n",
       "      <td>1960</td>\n",
       "      <td>5000</td>\n",
       "      <td>1.0</td>\n",
       "      <td>0</td>\n",
       "      <td>0</td>\n",
       "      <td>...</td>\n",
       "      <td>7</td>\n",
       "      <td>1050</td>\n",
       "      <td>910</td>\n",
       "      <td>1965</td>\n",
       "      <td>0</td>\n",
       "      <td>98136</td>\n",
       "      <td>47.5208</td>\n",
       "      <td>-122.393</td>\n",
       "      <td>1360</td>\n",
       "      <td>5000</td>\n",
       "    </tr>\n",
       "    <tr>\n",
       "      <th>4</th>\n",
       "      <td>1954400510</td>\n",
       "      <td>20150218T000000</td>\n",
       "      <td>510000.0</td>\n",
       "      <td>3</td>\n",
       "      <td>2.00</td>\n",
       "      <td>1680</td>\n",
       "      <td>8080</td>\n",
       "      <td>1.0</td>\n",
       "      <td>0</td>\n",
       "      <td>0</td>\n",
       "      <td>...</td>\n",
       "      <td>8</td>\n",
       "      <td>1680</td>\n",
       "      <td>0</td>\n",
       "      <td>1987</td>\n",
       "      <td>0</td>\n",
       "      <td>98074</td>\n",
       "      <td>47.6168</td>\n",
       "      <td>-122.045</td>\n",
       "      <td>1800</td>\n",
       "      <td>7503</td>\n",
       "    </tr>\n",
       "  </tbody>\n",
       "</table>\n",
       "<p>5 rows × 21 columns</p>\n",
       "</div>"
      ],
      "text/plain": [
       "           id             date     price  bedrooms  bathrooms  sqft_living  \\\n",
       "0  7129300520  20141013T000000  221900.0         3       1.00         1180   \n",
       "1  6414100192  20141209T000000  538000.0         3       2.25         2570   \n",
       "2  5631500400  20150225T000000  180000.0         2       1.00          770   \n",
       "3  2487200875  20141209T000000  604000.0         4       3.00         1960   \n",
       "4  1954400510  20150218T000000  510000.0         3       2.00         1680   \n",
       "\n",
       "   sqft_lot  floors  waterfront  view  ...  grade  sqft_above  sqft_basement  \\\n",
       "0      5650     1.0           0     0  ...      7        1180              0   \n",
       "1      7242     2.0           0     0  ...      7        2170            400   \n",
       "2     10000     1.0           0     0  ...      6         770              0   \n",
       "3      5000     1.0           0     0  ...      7        1050            910   \n",
       "4      8080     1.0           0     0  ...      8        1680              0   \n",
       "\n",
       "   yr_built  yr_renovated  zipcode      lat     long  sqft_living15  \\\n",
       "0      1955             0    98178  47.5112 -122.257           1340   \n",
       "1      1951          1991    98125  47.7210 -122.319           1690   \n",
       "2      1933             0    98028  47.7379 -122.233           2720   \n",
       "3      1965             0    98136  47.5208 -122.393           1360   \n",
       "4      1987             0    98074  47.6168 -122.045           1800   \n",
       "\n",
       "   sqft_lot15  \n",
       "0        5650  \n",
       "1        7639  \n",
       "2        8062  \n",
       "3        5000  \n",
       "4        7503  \n",
       "\n",
       "[5 rows x 21 columns]"
      ]
     },
     "execution_count": 41,
     "metadata": {},
     "output_type": "execute_result"
    }
   ],
   "source": [
    "## as colunas 'id' e 'date' não fazem parte do dataset \n",
    "\n",
    "\n",
    "data.head(5)"
   ]
  },
  {
   "cell_type": "code",
   "execution_count": 42,
   "id": "8e7894e3",
   "metadata": {
    "ExecuteTime": {
     "end_time": "2022-07-10T18:19:50.642895Z",
     "start_time": "2022-07-10T18:19:50.628871Z"
    }
   },
   "outputs": [
    {
     "name": "stdout",
     "output_type": "stream",
     "text": [
      "A quantidade de casas disponíveis são de 21436\n"
     ]
    }
   ],
   "source": [
    "# selecionar a coluna id \n",
    "# depois conta os dados únicos da coluna id, assim retornando o valor total da quantidade de id que tem\n",
    "\n",
    "houses = len(data['id'].unique())\n",
    "\n",
    "print(f'A quantidade de casas disponíveis são de {houses}')"
   ]
  },
  {
   "cell_type": "code",
   "execution_count": 43,
   "id": "0dc8e04f",
   "metadata": {
    "ExecuteTime": {
     "end_time": "2022-07-10T18:19:50.657811Z",
     "start_time": "2022-07-10T18:19:50.643846Z"
    }
   },
   "outputs": [
    {
     "data": {
      "text/plain": [
       "21436"
      ]
     },
     "execution_count": 43,
     "metadata": {},
     "output_type": "execute_result"
    }
   ],
   "source": [
    "# segunda forma de resolver o mesmo problema da quantidade de casas disponíveis \n",
    "# remover os dados duplicado da coluna id \n",
    "# depois contar a quantidade de dados total , após a remoção\n",
    "\n",
    "len(data['id'].drop_duplicates())"
   ]
  },
  {
   "cell_type": "markdown",
   "id": "795c13ce",
   "metadata": {},
   "source": [
    "### 2. Quantos atributos as casas possuem ?"
   ]
  },
  {
   "cell_type": "code",
   "execution_count": 44,
   "id": "da8ff697",
   "metadata": {
    "ExecuteTime": {
     "end_time": "2022-07-10T18:19:50.672779Z",
     "start_time": "2022-07-10T18:19:50.659803Z"
    }
   },
   "outputs": [
    {
     "name": "stdout",
     "output_type": "stream",
     "text": [
      "As casas possuem 19 atributos\n"
     ]
    }
   ],
   "source": [
    "## Contando quantas colunas tem ao todo dentro do dataset \n",
    "\n",
    "qtd_atributos = data.drop(['id', 'date'], axis = 1).columns\n",
    "\n",
    "print(f'As casas possuem {len(qtd_atributos)} atributos')"
   ]
  },
  {
   "cell_type": "markdown",
   "id": "8c42b5b8",
   "metadata": {},
   "source": [
    "### 3. Quais são os atributos das casas ?"
   ]
  },
  {
   "cell_type": "code",
   "execution_count": 45,
   "id": "c6e000e8",
   "metadata": {
    "ExecuteTime": {
     "end_time": "2022-07-10T18:19:50.688649Z",
     "start_time": "2022-07-10T18:19:50.674774Z"
    }
   },
   "outputs": [
    {
     "name": "stdout",
     "output_type": "stream",
     "text": [
      " essa são os nomes de todas as colunas do dataset ['price', 'bedrooms', 'bathrooms', 'sqft_living', 'sqft_lot', 'floors', 'waterfront', 'view', 'condition', 'grade', 'sqft_above', 'sqft_basement', 'yr_built', 'yr_renovated', 'zipcode', 'lat', 'long', 'sqft_living15', 'sqft_lot15']\n"
     ]
    }
   ],
   "source": [
    "## como a variável qtd_atributos já existia , sendo global, trouxe novamente e transformei em lista mostrando\n",
    "# todos nomes das colunas que existem no dataset\n",
    "atributos = qtd_atributos.to_list()\n",
    "print(f' essa são os nomes de todas as colunas do dataset {atributos}')"
   ]
  },
  {
   "cell_type": "markdown",
   "id": "78d2741c",
   "metadata": {},
   "source": [
    "### 4. Qual a casa mais cara (casa com maior valor de venda) ?"
   ]
  },
  {
   "cell_type": "code",
   "execution_count": 46,
   "id": "b8ef02cd",
   "metadata": {
    "ExecuteTime": {
     "end_time": "2022-07-10T18:19:50.704640Z",
     "start_time": "2022-07-10T18:19:50.691639Z"
    }
   },
   "outputs": [
    {
     "data": {
      "text/plain": [
       "6762700020"
      ]
     },
     "execution_count": 46,
     "metadata": {},
     "output_type": "execute_result"
    }
   ],
   "source": [
    "## precisa resetar o index do dataframe porque preciso pegar o index da casa que é mais cara\n",
    "## caso não faça o reset o valor que será pego é primeiro valor da coluna id , esse valor não é a casa mais cara\n",
    "## utiliza função .loc para pegar a primeira linha da coluna id por \n",
    "\n",
    "\n",
    "\n",
    "data[['id', 'price']].sort_values('price',ascending= False).reset_index( drop = True).loc[0, 'id']"
   ]
  },
  {
   "cell_type": "markdown",
   "id": "32109c1e",
   "metadata": {},
   "source": [
    "### 5. Qual a casa com maior número de quartos ?"
   ]
  },
  {
   "cell_type": "code",
   "execution_count": 47,
   "id": "1d60f8b3",
   "metadata": {
    "ExecuteTime": {
     "end_time": "2022-07-10T18:19:50.719988Z",
     "start_time": "2022-07-10T18:19:50.705602Z"
    }
   },
   "outputs": [
    {
     "data": {
      "text/plain": [
       "2402100895"
      ]
     },
     "execution_count": 47,
     "metadata": {},
     "output_type": "execute_result"
    }
   ],
   "source": [
    "\n",
    "data[['id', 'bedrooms']].sort_values('bedrooms', ascending= False).reset_index(drop = True).loc[0, 'id']"
   ]
  },
  {
   "cell_type": "markdown",
   "id": "0fe174a2",
   "metadata": {},
   "source": [
    "### 6. Qual a soma total de quartos do conjunto de dados ?"
   ]
  },
  {
   "cell_type": "code",
   "execution_count": 48,
   "id": "11d4cd3c",
   "metadata": {
    "ExecuteTime": {
     "end_time": "2022-07-10T18:19:50.735950Z",
     "start_time": "2022-07-10T18:19:50.721958Z"
    }
   },
   "outputs": [
    {
     "name": "stdout",
     "output_type": "stream",
     "text": [
      "O total de quartos da base de dados 72854\n"
     ]
    }
   ],
   "source": [
    "\n",
    "qtd_total_rooms = data['bedrooms'].sum()\n",
    "                   \n",
    "print(f'O total de quartos da base de dados {qtd_total_rooms}') \n",
    "\n"
   ]
  },
  {
   "cell_type": "markdown",
   "id": "b4450f88",
   "metadata": {},
   "source": [
    "### 7. Quantas casas possuem 2 banheiros?"
   ]
  },
  {
   "cell_type": "code",
   "execution_count": 49,
   "id": "f98ab026",
   "metadata": {
    "ExecuteTime": {
     "end_time": "2022-07-10T18:19:50.751870Z",
     "start_time": "2022-07-10T18:19:50.736912Z"
    }
   },
   "outputs": [
    {
     "name": "stdout",
     "output_type": "stream",
     "text": [
      "O número de casas com 2 banheiros são de 1930\n"
     ]
    }
   ],
   "source": [
    "## Estrategia\n",
    "## 1. Seleciona todas as linhas da coluna 'bathrooms' sejam iguais 2\n",
    "## 2 . Pegar todos os 'id' que tem 2 bathrooms\n",
    "## 3. e no final realioza a contagem dessas linhas com o método len\n",
    "\n",
    "houses_with_2_bathrooms = len(data.loc[data['bathrooms'] == 2, ['id', 'bathrooms']])\n",
    "\n",
    "print(f'O número de casas com 2 banheiros são de {houses_with_2_bathrooms}')"
   ]
  },
  {
   "cell_type": "markdown",
   "id": "e9ff2fa3",
   "metadata": {},
   "source": [
    "### 8. Qual o preço médio de todas as casas no conjunto de dados?"
   ]
  },
  {
   "cell_type": "code",
   "execution_count": 50,
   "id": "c9643a52",
   "metadata": {
    "ExecuteTime": {
     "end_time": "2022-07-10T18:19:50.767802Z",
     "start_time": "2022-07-10T18:19:50.754795Z"
    }
   },
   "outputs": [
    {
     "name": "stdout",
     "output_type": "stream",
     "text": [
      "O preço médio das casas é de 540088.14 R$\n"
     ]
    }
   ],
   "source": [
    "### Estratégia\n",
    "## Pega a função que realiza a média de valores de preço e arredonda esses valores\n",
    "\n",
    "price_mean = np.round(data['price'].mean(), 2)\n",
    "\n",
    "print(f'O preço médio das casas é de {price_mean} R$')\n"
   ]
  },
  {
   "cell_type": "markdown",
   "id": "e5385547",
   "metadata": {},
   "source": [
    "### 9. Qual o preço médio de casas com 2 banheiros?"
   ]
  },
  {
   "cell_type": "code",
   "execution_count": 51,
   "id": "40c138cf",
   "metadata": {
    "ExecuteTime": {
     "end_time": "2022-07-10T18:19:50.783657Z",
     "start_time": "2022-07-10T18:19:50.768765Z"
    }
   },
   "outputs": [
    {
     "name": "stdout",
     "output_type": "stream",
     "text": [
      "O valor médio das casas com 2 banheiros é de 457889.72 R$\n"
     ]
    }
   ],
   "source": [
    "\n",
    "result = np.round(data.loc[data['bathrooms'] == 2, 'price'].mean(), 2)\n",
    "\n",
    "print(f'O valor médio das casas com 2 banheiros é de {result} R$')"
   ]
  },
  {
   "cell_type": "markdown",
   "id": "dce2a654",
   "metadata": {},
   "source": [
    "### 10. Qual o preço mínimo entre as casas com 3 quartos?"
   ]
  },
  {
   "cell_type": "code",
   "execution_count": 52,
   "id": "637e5d2d",
   "metadata": {
    "ExecuteTime": {
     "end_time": "2022-07-10T18:19:50.937710Z",
     "start_time": "2022-07-10T18:19:50.918762Z"
    }
   },
   "outputs": [
    {
     "name": "stdout",
     "output_type": "stream",
     "text": [
      "O valor médio das casas com 2 banheiros é de 82000.0 R$\n"
     ]
    }
   ],
   "source": [
    "result_min = data.loc[data['bedrooms'] == 3, 'price'].min()\n",
    "print(f'O valor médio das casas com 2 banheiros é de {result_min} R$')"
   ]
  },
  {
   "cell_type": "markdown",
   "id": "36fe8bf8",
   "metadata": {},
   "source": [
    "### 11. Quantas casas possuem mais de 300 metros quadrados na sala de estar?"
   ]
  },
  {
   "cell_type": "code",
   "execution_count": 53,
   "id": "93265f9b",
   "metadata": {
    "ExecuteTime": {
     "end_time": "2022-07-10T18:19:51.171475Z",
     "start_time": "2022-07-10T18:19:51.149242Z"
    }
   },
   "outputs": [
    {
     "name": "stdout",
     "output_type": "stream",
     "text": [
      " 2258 casas possuem mais de 300 metros quadrados na sala de estar.\n"
     ]
    }
   ],
   "source": [
    "data['m2'] = data['sqft_living'] * 0.093\n",
    "\n",
    "houses_300 = len(data.loc[data['m2'] > 300, 'id'])\n",
    "\n",
    "print(f' {houses_300} casas possuem mais de 300 metros quadrados na sala de estar.'\n",
    ")"
   ]
  },
  {
   "cell_type": "markdown",
   "id": "6ca03265",
   "metadata": {
    "ExecuteTime": {
     "end_time": "2022-07-05T18:19:44.644513Z",
     "start_time": "2022-07-05T18:19:44.586107Z"
    }
   },
   "source": [
    "### 12 . Quantas casas tem mais de 2 andares?"
   ]
  },
  {
   "cell_type": "code",
   "execution_count": 54,
   "id": "930ab63a",
   "metadata": {
    "ExecuteTime": {
     "end_time": "2022-07-10T18:19:51.385866Z",
     "start_time": "2022-07-10T18:19:51.369065Z"
    }
   },
   "outputs": [
    {
     "name": "stdout",
     "output_type": "stream",
     "text": [
      "782 casas possuem mais de 2 andares\n"
     ]
    }
   ],
   "source": [
    "houses_floors = len(data.loc[data['floors'] > 2, 'id'])\n",
    "\n",
    "print(f'{houses_floors} casas possuem mais de 2 andares')\n"
   ]
  },
  {
   "cell_type": "markdown",
   "id": "e85f58d3",
   "metadata": {},
   "source": [
    "### 13. Quantas casas tem vista para o mar?"
   ]
  },
  {
   "cell_type": "code",
   "execution_count": 55,
   "id": "9e6defd0",
   "metadata": {
    "ExecuteTime": {
     "end_time": "2022-07-10T18:19:51.589658Z",
     "start_time": "2022-07-10T18:19:51.581705Z"
    }
   },
   "outputs": [
    {
     "name": "stdout",
     "output_type": "stream",
     "text": [
      "163 casas tem vista para o mar\n"
     ]
    }
   ],
   "source": [
    "mar = len(data.loc[data['waterfront'] != 0, 'id'])\n",
    "print(f'{mar} casas tem vista para o mar')"
   ]
  },
  {
   "cell_type": "markdown",
   "id": "bfc67084",
   "metadata": {},
   "source": [
    "### 14. Das casas com vista para o mar, quantas tem 3 quartos?"
   ]
  },
  {
   "cell_type": "code",
   "execution_count": 56,
   "id": "7344ce94",
   "metadata": {
    "ExecuteTime": {
     "end_time": "2022-07-10T18:19:51.821411Z",
     "start_time": "2022-07-10T18:19:51.801873Z"
    }
   },
   "outputs": [
    {
     "name": "stdout",
     "output_type": "stream",
     "text": [
      "64 casas tem vista para o mar e possuem 3 quartos\n"
     ]
    }
   ],
   "source": [
    "casa = len(data.loc[(data['waterfront'] == 1)  & (data['bedrooms'] == 3), 'id'])\n",
    "\n",
    "print(f'{casa} casas tem vista para o mar e possuem 3 quartos')"
   ]
  },
  {
   "cell_type": "markdown",
   "id": "8edd5b33",
   "metadata": {},
   "source": [
    "### 15. Das casas com mais de 300 metros quadrados de sala de estar, quantas tem mais de 2 banheiros?"
   ]
  },
  {
   "cell_type": "code",
   "execution_count": 57,
   "id": "600f31e4",
   "metadata": {
    "ExecuteTime": {
     "end_time": "2022-07-10T18:19:52.038818Z",
     "start_time": "2022-07-10T18:19:52.029808Z"
    }
   },
   "outputs": [
    {
     "name": "stdout",
     "output_type": "stream",
     "text": [
      "2201 casas tem mais de 300 metros quadrados de sala de estar e mais de 2 banheiros\n"
     ]
    }
   ],
   "source": [
    "## a nova coluna chamada m2 vem da questão 11 , pois os dados estão na unidade de medida ft temos que passar para metros\n",
    "\n",
    "resposta = len(data.loc[(data['m2'] > 300)  & (data['bathrooms'] > 2), 'id'])\n",
    "\n",
    "print(f'{resposta} casas tem mais de 300 metros quadrados de sala de estar e mais de 2 banheiros')"
   ]
  },
  {
   "cell_type": "markdown",
   "id": "dee84321",
   "metadata": {},
   "source": [
    "## Módulo 02:  acrescentando novas perguntas do CEO"
   ]
  },
  {
   "cell_type": "markdown",
   "id": "fdfb037f",
   "metadata": {},
   "source": [
    "### 16 . Qual imóvel mais antigo a venda ? "
   ]
  },
  {
   "cell_type": "code",
   "execution_count": 58,
   "id": "f398f249",
   "metadata": {
    "ExecuteTime": {
     "end_time": "2022-07-10T18:19:52.535739Z",
     "start_time": "2022-07-10T18:19:52.270007Z"
    }
   },
   "outputs": [],
   "source": [
    "## verificar se os dados da coluna date é de fato do tipo data\n",
    "## transforma a coluna chamada date para tipo de dado data\n",
    "## Já a segunda função é pra formatar essa coluna \n",
    "\n",
    "data['date'] = pd.to_datetime(data['date']).dt.date\n",
    "\n",
    "data['date'] = pd.to_datetime(data['date']).dt.strftime('%Y-%m-%d')\n",
    "\n",
    "\n",
    "\n"
   ]
  },
  {
   "cell_type": "code",
   "execution_count": 59,
   "id": "0558df87",
   "metadata": {
    "ExecuteTime": {
     "end_time": "2022-07-10T18:19:52.581196Z",
     "start_time": "2022-07-10T18:19:52.537482Z"
    }
   },
   "outputs": [
    {
     "name": "stdout",
     "output_type": "stream",
     "text": [
      "O imóvel mais antigo tem a data 2014-05-02\n"
     ]
    }
   ],
   "source": [
    "resultado_imovel_antigo = data.sort_values('date',ascending= True).reset_index( drop = True).loc[0, 'date']\n",
    "print(f'O imóvel mais antigo tem a data {resultado_imovel_antigo}')"
   ]
  },
  {
   "cell_type": "code",
   "execution_count": 60,
   "id": "8ce0f31b",
   "metadata": {
    "ExecuteTime": {
     "end_time": "2022-07-10T18:19:52.611654Z",
     "start_time": "2022-07-10T18:19:52.583190Z"
    }
   },
   "outputs": [
    {
     "name": "stdout",
     "output_type": "stream",
     "text": [
      "<class 'pandas.core.frame.DataFrame'>\n",
      "RangeIndex: 21613 entries, 0 to 21612\n",
      "Data columns (total 22 columns):\n",
      " #   Column         Non-Null Count  Dtype  \n",
      "---  ------         --------------  -----  \n",
      " 0   id             21613 non-null  int64  \n",
      " 1   date           21613 non-null  object \n",
      " 2   price          21613 non-null  float64\n",
      " 3   bedrooms       21613 non-null  int64  \n",
      " 4   bathrooms      21613 non-null  float64\n",
      " 5   sqft_living    21613 non-null  int64  \n",
      " 6   sqft_lot       21613 non-null  int64  \n",
      " 7   floors         21613 non-null  float64\n",
      " 8   waterfront     21613 non-null  int64  \n",
      " 9   view           21613 non-null  int64  \n",
      " 10  condition      21613 non-null  int64  \n",
      " 11  grade          21613 non-null  int64  \n",
      " 12  sqft_above     21613 non-null  int64  \n",
      " 13  sqft_basement  21613 non-null  int64  \n",
      " 14  yr_built       21613 non-null  int64  \n",
      " 15  yr_renovated   21613 non-null  int64  \n",
      " 16  zipcode        21613 non-null  int64  \n",
      " 17  lat            21613 non-null  float64\n",
      " 18  long           21613 non-null  float64\n",
      " 19  sqft_living15  21613 non-null  int64  \n",
      " 20  sqft_lot15     21613 non-null  int64  \n",
      " 21  m2             21613 non-null  float64\n",
      "dtypes: float64(6), int64(15), object(1)\n",
      "memory usage: 3.6+ MB\n"
     ]
    }
   ],
   "source": [
    "data.info()"
   ]
  },
  {
   "cell_type": "markdown",
   "id": "d0fb91b5",
   "metadata": {},
   "source": [
    "### 18. Quantos imóveis possuem o número máximo de andares ? "
   ]
  },
  {
   "cell_type": "code",
   "execution_count": 61,
   "id": "71fc6f5a",
   "metadata": {
    "ExecuteTime": {
     "end_time": "2022-07-10T18:19:52.735675Z",
     "start_time": "2022-07-10T18:19:52.720794Z"
    }
   },
   "outputs": [
    {
     "name": "stdout",
     "output_type": "stream",
     "text": [
      "O número de imóveis com 3.5 andares é 8\n"
     ]
    }
   ],
   "source": [
    "## Verifica qual maior valor do dataframe (coluna floors)\n",
    "## Depois contar os imóveis que possui esse maior valor\n",
    "\n",
    "\n",
    "data['floors'].max()\n",
    "\n",
    "\n",
    "\n",
    "imoveis_com_maior_num_andar = len(data[data['floors'] == 3.5])\n",
    "\n",
    "print(f'O número de imóveis com 3.5 andares é {imoveis_com_maior_num_andar}')"
   ]
  },
  {
   "cell_type": "markdown",
   "id": "68cf2ab3",
   "metadata": {},
   "source": [
    "### 19.  Criar um classificação para o imóveis, separando- os em baixo e alto padrão de acordo com preço\n",
    "    \n",
    "  Acima de R$ 540.000 → Alto padrão\n",
    "    \n",
    "  Abaixo de R$ 540.000 → Baixo padrão"
   ]
  },
  {
   "cell_type": "code",
   "execution_count": 62,
   "id": "eb53ab54",
   "metadata": {
    "ExecuteTime": {
     "end_time": "2022-07-10T19:48:10.270923Z",
     "start_time": "2022-07-10T19:48:10.222539Z"
    }
   },
   "outputs": [
    {
     "data": {
      "text/html": [
       "<div>\n",
       "<style scoped>\n",
       "    .dataframe tbody tr th:only-of-type {\n",
       "        vertical-align: middle;\n",
       "    }\n",
       "\n",
       "    .dataframe tbody tr th {\n",
       "        vertical-align: top;\n",
       "    }\n",
       "\n",
       "    .dataframe thead th {\n",
       "        text-align: right;\n",
       "    }\n",
       "</style>\n",
       "<table border=\"1\" class=\"dataframe\">\n",
       "  <thead>\n",
       "    <tr style=\"text-align: right;\">\n",
       "      <th></th>\n",
       "      <th>id</th>\n",
       "      <th>date</th>\n",
       "      <th>price</th>\n",
       "      <th>bedrooms</th>\n",
       "      <th>bathrooms</th>\n",
       "      <th>sqft_living</th>\n",
       "      <th>sqft_lot</th>\n",
       "      <th>floors</th>\n",
       "      <th>waterfront</th>\n",
       "      <th>view</th>\n",
       "      <th>...</th>\n",
       "      <th>sqft_basement</th>\n",
       "      <th>yr_built</th>\n",
       "      <th>yr_renovated</th>\n",
       "      <th>zipcode</th>\n",
       "      <th>lat</th>\n",
       "      <th>long</th>\n",
       "      <th>sqft_living15</th>\n",
       "      <th>sqft_lot15</th>\n",
       "      <th>m2</th>\n",
       "      <th>level</th>\n",
       "    </tr>\n",
       "  </thead>\n",
       "  <tbody>\n",
       "    <tr>\n",
       "      <th>0</th>\n",
       "      <td>7129300520</td>\n",
       "      <td>2014-10-13</td>\n",
       "      <td>221900.0</td>\n",
       "      <td>3</td>\n",
       "      <td>1.00</td>\n",
       "      <td>1180</td>\n",
       "      <td>5650</td>\n",
       "      <td>1.0</td>\n",
       "      <td>0</td>\n",
       "      <td>0</td>\n",
       "      <td>...</td>\n",
       "      <td>0</td>\n",
       "      <td>1955</td>\n",
       "      <td>0</td>\n",
       "      <td>98178</td>\n",
       "      <td>47.5112</td>\n",
       "      <td>-122.257</td>\n",
       "      <td>1340</td>\n",
       "      <td>5650</td>\n",
       "      <td>109.74</td>\n",
       "      <td>low_level</td>\n",
       "    </tr>\n",
       "    <tr>\n",
       "      <th>1</th>\n",
       "      <td>6414100192</td>\n",
       "      <td>2014-12-09</td>\n",
       "      <td>538000.0</td>\n",
       "      <td>3</td>\n",
       "      <td>2.25</td>\n",
       "      <td>2570</td>\n",
       "      <td>7242</td>\n",
       "      <td>2.0</td>\n",
       "      <td>0</td>\n",
       "      <td>0</td>\n",
       "      <td>...</td>\n",
       "      <td>400</td>\n",
       "      <td>1951</td>\n",
       "      <td>1991</td>\n",
       "      <td>98125</td>\n",
       "      <td>47.7210</td>\n",
       "      <td>-122.319</td>\n",
       "      <td>1690</td>\n",
       "      <td>7639</td>\n",
       "      <td>239.01</td>\n",
       "      <td>low_level</td>\n",
       "    </tr>\n",
       "    <tr>\n",
       "      <th>2</th>\n",
       "      <td>5631500400</td>\n",
       "      <td>2015-02-25</td>\n",
       "      <td>180000.0</td>\n",
       "      <td>2</td>\n",
       "      <td>1.00</td>\n",
       "      <td>770</td>\n",
       "      <td>10000</td>\n",
       "      <td>1.0</td>\n",
       "      <td>0</td>\n",
       "      <td>0</td>\n",
       "      <td>...</td>\n",
       "      <td>0</td>\n",
       "      <td>1933</td>\n",
       "      <td>0</td>\n",
       "      <td>98028</td>\n",
       "      <td>47.7379</td>\n",
       "      <td>-122.233</td>\n",
       "      <td>2720</td>\n",
       "      <td>8062</td>\n",
       "      <td>71.61</td>\n",
       "      <td>low_level</td>\n",
       "    </tr>\n",
       "    <tr>\n",
       "      <th>3</th>\n",
       "      <td>2487200875</td>\n",
       "      <td>2014-12-09</td>\n",
       "      <td>604000.0</td>\n",
       "      <td>4</td>\n",
       "      <td>3.00</td>\n",
       "      <td>1960</td>\n",
       "      <td>5000</td>\n",
       "      <td>1.0</td>\n",
       "      <td>0</td>\n",
       "      <td>0</td>\n",
       "      <td>...</td>\n",
       "      <td>910</td>\n",
       "      <td>1965</td>\n",
       "      <td>0</td>\n",
       "      <td>98136</td>\n",
       "      <td>47.5208</td>\n",
       "      <td>-122.393</td>\n",
       "      <td>1360</td>\n",
       "      <td>5000</td>\n",
       "      <td>182.28</td>\n",
       "      <td>high_level</td>\n",
       "    </tr>\n",
       "    <tr>\n",
       "      <th>4</th>\n",
       "      <td>1954400510</td>\n",
       "      <td>2015-02-18</td>\n",
       "      <td>510000.0</td>\n",
       "      <td>3</td>\n",
       "      <td>2.00</td>\n",
       "      <td>1680</td>\n",
       "      <td>8080</td>\n",
       "      <td>1.0</td>\n",
       "      <td>0</td>\n",
       "      <td>0</td>\n",
       "      <td>...</td>\n",
       "      <td>0</td>\n",
       "      <td>1987</td>\n",
       "      <td>0</td>\n",
       "      <td>98074</td>\n",
       "      <td>47.6168</td>\n",
       "      <td>-122.045</td>\n",
       "      <td>1800</td>\n",
       "      <td>7503</td>\n",
       "      <td>156.24</td>\n",
       "      <td>low_level</td>\n",
       "    </tr>\n",
       "  </tbody>\n",
       "</table>\n",
       "<p>5 rows × 23 columns</p>\n",
       "</div>"
      ],
      "text/plain": [
       "           id        date     price  bedrooms  bathrooms  sqft_living  \\\n",
       "0  7129300520  2014-10-13  221900.0         3       1.00         1180   \n",
       "1  6414100192  2014-12-09  538000.0         3       2.25         2570   \n",
       "2  5631500400  2015-02-25  180000.0         2       1.00          770   \n",
       "3  2487200875  2014-12-09  604000.0         4       3.00         1960   \n",
       "4  1954400510  2015-02-18  510000.0         3       2.00         1680   \n",
       "\n",
       "   sqft_lot  floors  waterfront  view  ...  sqft_basement  yr_built  \\\n",
       "0      5650     1.0           0     0  ...              0      1955   \n",
       "1      7242     2.0           0     0  ...            400      1951   \n",
       "2     10000     1.0           0     0  ...              0      1933   \n",
       "3      5000     1.0           0     0  ...            910      1965   \n",
       "4      8080     1.0           0     0  ...              0      1987   \n",
       "\n",
       "   yr_renovated  zipcode      lat     long  sqft_living15  sqft_lot15      m2  \\\n",
       "0             0    98178  47.5112 -122.257           1340        5650  109.74   \n",
       "1          1991    98125  47.7210 -122.319           1690        7639  239.01   \n",
       "2             0    98028  47.7379 -122.233           2720        8062   71.61   \n",
       "3             0    98136  47.5208 -122.393           1360        5000  182.28   \n",
       "4             0    98074  47.6168 -122.045           1800        7503  156.24   \n",
       "\n",
       "        level  \n",
       "0   low_level  \n",
       "1   low_level  \n",
       "2   low_level  \n",
       "3  high_level  \n",
       "4   low_level  \n",
       "\n",
       "[5 rows x 23 columns]"
      ]
     },
     "execution_count": 62,
     "metadata": {},
     "output_type": "execute_result"
    }
   ],
   "source": [
    "## Vou criar uma coluna chamada standart\n",
    "## depois aplicar a classificação de acordo com o preço \n",
    "\n",
    "data['level'] = 'standart'\n",
    "\n",
    "## primeiro a função .loc retorna todas as linhas cujo o preço é maior que 5400000, mas nesse caso vou pegar somente \n",
    "## as linhas da coluna level\n",
    "\n",
    "data.loc[data['price'] < 540000, 'level'] = 'low_level'\n",
    "data.loc[data['price'] == 540000, 'level'] = 'mid_level'\n",
    "data.loc[data['price'] > 540000, 'level'] = 'high_level'\n",
    "\n",
    "\n",
    "\n",
    "data.head()\n"
   ]
  },
  {
   "cell_type": "markdown",
   "id": "4216573d",
   "metadata": {},
   "source": [
    "### 20. Gostaria de um relatório ordenado pelo preço e contento as seguintes informações: \n",
    " \n",
    "(id do imóvel, data que o imóvel ficou disponível para compra , número de quartos , o tamanho total do terreno , o preço do imóvel,  e por fim a classificação do imóvel (alto ou baixo padrão))."
   ]
  },
  {
   "cell_type": "code",
   "execution_count": 63,
   "id": "4780337b",
   "metadata": {
    "ExecuteTime": {
     "end_time": "2022-07-10T18:19:53.281118Z",
     "start_time": "2022-07-10T18:19:53.174624Z"
    }
   },
   "outputs": [],
   "source": [
    "### selecionar as colunas apontadas na questão \n",
    "\n",
    "\n",
    "report = data[['id', 'date','price','bedrooms','sqft_lot', 'level']].sort_values('price',ascending= False)\n",
    "\n",
    "report.to_csv('resultado_aula_02.csv', index = False)\n"
   ]
  },
  {
   "cell_type": "markdown",
   "id": "3d355f0b",
   "metadata": {},
   "source": [
    "## 21. Criando Mapa  indicando onde as casas estão localizadas geograficamente."
   ]
  },
  {
   "cell_type": "code",
   "execution_count": 64,
   "id": "33143a7e",
   "metadata": {
    "ExecuteTime": {
     "end_time": "2022-07-10T19:48:22.610781Z",
     "start_time": "2022-07-10T19:48:21.642340Z"
    }
   },
   "outputs": [
    {
     "ename": "ValueError",
     "evalue": "Mime type rendering requires nbformat>=4.2.0 but it is not installed",
     "output_type": "error",
     "traceback": [
      "\u001b[1;31m---------------------------------------------------------------------------\u001b[0m",
      "\u001b[1;31mValueError\u001b[0m                                Traceback (most recent call last)",
      "\u001b[1;32mc:\\Users\\mathe\\Desktop\\PowerBi\\Comunidade_DS\\curso_python_zero_ds\\modulo_2\\house_rocket_exercicio.ipynb Cell 50'\u001b[0m in \u001b[0;36m<cell line: 15>\u001b[1;34m()\u001b[0m\n\u001b[0;32m     <a href='vscode-notebook-cell:/c%3A/Users/mathe/Desktop/PowerBi/Comunidade_DS/curso_python_zero_ds/modulo_2/house_rocket_exercicio.ipynb#ch0000049?line=10'>11</a>\u001b[0m mapa\u001b[39m.\u001b[39mupdate_layout(mapbox_style\u001b[39m=\u001b[39m\u001b[39m\"\u001b[39m\u001b[39mopen-street-map\u001b[39m\u001b[39m\"\u001b[39m)\n\u001b[0;32m     <a href='vscode-notebook-cell:/c%3A/Users/mathe/Desktop/PowerBi/Comunidade_DS/curso_python_zero_ds/modulo_2/house_rocket_exercicio.ipynb#ch0000049?line=11'>12</a>\u001b[0m mapa\u001b[39m.\u001b[39mupdate_layout(height \u001b[39m=\u001b[39m \u001b[39m300\u001b[39m , margin \u001b[39m=\u001b[39m {\u001b[39m'\u001b[39m\u001b[39mr\u001b[39m\u001b[39m'\u001b[39m: \u001b[39m0\u001b[39m , \u001b[39m'\u001b[39m\u001b[39mt\u001b[39m\u001b[39m'\u001b[39m: \u001b[39m0\u001b[39m, \u001b[39m'\u001b[39m\u001b[39ml\u001b[39m\u001b[39m'\u001b[39m:\u001b[39m0\u001b[39m, \u001b[39m'\u001b[39m\u001b[39mb\u001b[39m\u001b[39m'\u001b[39m:\u001b[39m0\u001b[39m})\n\u001b[1;32m---> <a href='vscode-notebook-cell:/c%3A/Users/mathe/Desktop/PowerBi/Comunidade_DS/curso_python_zero_ds/modulo_2/house_rocket_exercicio.ipynb#ch0000049?line=14'>15</a>\u001b[0m mapa\u001b[39m.\u001b[39;49mshow()\n",
      "File \u001b[1;32mc:\\Users\\mathe\\AppData\\Local\\Programs\\Python\\Python38\\lib\\site-packages\\plotly\\basedatatypes.py:3398\u001b[0m, in \u001b[0;36mBaseFigure.show\u001b[1;34m(self, *args, **kwargs)\u001b[0m\n\u001b[0;32m   <a href='file:///c%3A/Users/mathe/AppData/Local/Programs/Python/Python38/lib/site-packages/plotly/basedatatypes.py?line=3364'>3365</a>\u001b[0m \u001b[39m\"\"\"\u001b[39;00m\n\u001b[0;32m   <a href='file:///c%3A/Users/mathe/AppData/Local/Programs/Python/Python38/lib/site-packages/plotly/basedatatypes.py?line=3365'>3366</a>\u001b[0m \u001b[39mShow a figure using either the default renderer(s) or the renderer(s)\u001b[39;00m\n\u001b[0;32m   <a href='file:///c%3A/Users/mathe/AppData/Local/Programs/Python/Python38/lib/site-packages/plotly/basedatatypes.py?line=3366'>3367</a>\u001b[0m \u001b[39mspecified by the renderer argument\u001b[39;00m\n\u001b[1;32m   (...)\u001b[0m\n\u001b[0;32m   <a href='file:///c%3A/Users/mathe/AppData/Local/Programs/Python/Python38/lib/site-packages/plotly/basedatatypes.py?line=3393'>3394</a>\u001b[0m \u001b[39mNone\u001b[39;00m\n\u001b[0;32m   <a href='file:///c%3A/Users/mathe/AppData/Local/Programs/Python/Python38/lib/site-packages/plotly/basedatatypes.py?line=3394'>3395</a>\u001b[0m \u001b[39m\"\"\"\u001b[39;00m\n\u001b[0;32m   <a href='file:///c%3A/Users/mathe/AppData/Local/Programs/Python/Python38/lib/site-packages/plotly/basedatatypes.py?line=3395'>3396</a>\u001b[0m \u001b[39mimport\u001b[39;00m \u001b[39mplotly\u001b[39;00m\u001b[39m.\u001b[39;00m\u001b[39mio\u001b[39;00m \u001b[39mas\u001b[39;00m \u001b[39mpio\u001b[39;00m\n\u001b[1;32m-> <a href='file:///c%3A/Users/mathe/AppData/Local/Programs/Python/Python38/lib/site-packages/plotly/basedatatypes.py?line=3397'>3398</a>\u001b[0m \u001b[39mreturn\u001b[39;00m pio\u001b[39m.\u001b[39;49mshow(\u001b[39mself\u001b[39;49m, \u001b[39m*\u001b[39;49margs, \u001b[39m*\u001b[39;49m\u001b[39m*\u001b[39;49mkwargs)\n",
      "File \u001b[1;32mc:\\Users\\mathe\\AppData\\Local\\Programs\\Python\\Python38\\lib\\site-packages\\plotly\\io\\_renderers.py:396\u001b[0m, in \u001b[0;36mshow\u001b[1;34m(fig, renderer, validate, **kwargs)\u001b[0m\n\u001b[0;32m    <a href='file:///c%3A/Users/mathe/AppData/Local/Programs/Python/Python38/lib/site-packages/plotly/io/_renderers.py?line=390'>391</a>\u001b[0m         \u001b[39mraise\u001b[39;00m \u001b[39mValueError\u001b[39;00m(\n\u001b[0;32m    <a href='file:///c%3A/Users/mathe/AppData/Local/Programs/Python/Python38/lib/site-packages/plotly/io/_renderers.py?line=391'>392</a>\u001b[0m             \u001b[39m\"\u001b[39m\u001b[39mMime type rendering requires ipython but it is not installed\u001b[39m\u001b[39m\"\u001b[39m\n\u001b[0;32m    <a href='file:///c%3A/Users/mathe/AppData/Local/Programs/Python/Python38/lib/site-packages/plotly/io/_renderers.py?line=392'>393</a>\u001b[0m         )\n\u001b[0;32m    <a href='file:///c%3A/Users/mathe/AppData/Local/Programs/Python/Python38/lib/site-packages/plotly/io/_renderers.py?line=394'>395</a>\u001b[0m     \u001b[39mif\u001b[39;00m \u001b[39mnot\u001b[39;00m nbformat \u001b[39mor\u001b[39;00m LooseVersion(nbformat\u001b[39m.\u001b[39m__version__) \u001b[39m<\u001b[39m LooseVersion(\u001b[39m\"\u001b[39m\u001b[39m4.2.0\u001b[39m\u001b[39m\"\u001b[39m):\n\u001b[1;32m--> <a href='file:///c%3A/Users/mathe/AppData/Local/Programs/Python/Python38/lib/site-packages/plotly/io/_renderers.py?line=395'>396</a>\u001b[0m         \u001b[39mraise\u001b[39;00m \u001b[39mValueError\u001b[39;00m(\n\u001b[0;32m    <a href='file:///c%3A/Users/mathe/AppData/Local/Programs/Python/Python38/lib/site-packages/plotly/io/_renderers.py?line=396'>397</a>\u001b[0m             \u001b[39m\"\u001b[39m\u001b[39mMime type rendering requires nbformat>=4.2.0 but it is not installed\u001b[39m\u001b[39m\"\u001b[39m\n\u001b[0;32m    <a href='file:///c%3A/Users/mathe/AppData/Local/Programs/Python/Python38/lib/site-packages/plotly/io/_renderers.py?line=397'>398</a>\u001b[0m         )\n\u001b[0;32m    <a href='file:///c%3A/Users/mathe/AppData/Local/Programs/Python/Python38/lib/site-packages/plotly/io/_renderers.py?line=399'>400</a>\u001b[0m     ipython_display\u001b[39m.\u001b[39mdisplay(bundle, raw\u001b[39m=\u001b[39m\u001b[39mTrue\u001b[39;00m)\n\u001b[0;32m    <a href='file:///c%3A/Users/mathe/AppData/Local/Programs/Python/Python38/lib/site-packages/plotly/io/_renderers.py?line=401'>402</a>\u001b[0m \u001b[39m# external renderers\u001b[39;00m\n",
      "\u001b[1;31mValueError\u001b[0m: Mime type rendering requires nbformat>=4.2.0 but it is not installed"
     ]
    }
   ],
   "source": [
    "data_mapa = data[['id','long', 'lat', 'price']]\n",
    "\n",
    "\n",
    "mapa = px.scatter_mapbox(data_mapa, lat='lat', lon='long',\n",
    "                        hover_name = 'id',\n",
    "                        hover_data = ['price'],\n",
    "                        color_discrete_sequence = ['blue'],\n",
    "                        zoom = 7, \n",
    "                        height = 300)\n",
    "                        \n",
    "mapa.update_layout(mapbox_style=\"open-street-map\")\n",
    "mapa.update_layout(height = 300 , margin = {'r': 0 , 't': 0, 'l':0, 'b':0})\n",
    "                         \n",
    "                  \n",
    "mapa.show()"
   ]
  },
  {
   "cell_type": "code",
   "execution_count": null,
   "id": "21563c2a",
   "metadata": {
    "ExecuteTime": {
     "end_time": "2022-07-10T19:46:12.644808Z",
     "start_time": "2022-07-10T19:46:12.520903Z"
    }
   },
   "outputs": [],
   "source": [
    "mapa.write_html('mapa_house_rockte.html')"
   ]
  },
  {
   "cell_type": "markdown",
   "id": "71479816",
   "metadata": {},
   "source": [
    "### 1. Crie uma nova coluna chamada: ‘’house_age’’\n",
    "    - Se o valor da coluna \"date' for maior que 2014-01-01 - \"new_house\"\n",
    "    - Se o valor da coluna \"date\" for menor que 2014-01-01 - \"old_house'"
   ]
  },
  {
   "cell_type": "code",
   "execution_count": 83,
   "id": "91749c9c",
   "metadata": {},
   "outputs": [
    {
     "data": {
      "text/html": [
       "<div>\n",
       "<style scoped>\n",
       "    .dataframe tbody tr th:only-of-type {\n",
       "        vertical-align: middle;\n",
       "    }\n",
       "\n",
       "    .dataframe tbody tr th {\n",
       "        vertical-align: top;\n",
       "    }\n",
       "\n",
       "    .dataframe thead th {\n",
       "        text-align: right;\n",
       "    }\n",
       "</style>\n",
       "<table border=\"1\" class=\"dataframe\">\n",
       "  <thead>\n",
       "    <tr style=\"text-align: right;\">\n",
       "      <th></th>\n",
       "      <th>id</th>\n",
       "      <th>date</th>\n",
       "      <th>price</th>\n",
       "      <th>bedrooms</th>\n",
       "      <th>bathrooms</th>\n",
       "      <th>sqft_living</th>\n",
       "      <th>sqft_lot</th>\n",
       "      <th>floors</th>\n",
       "      <th>waterfront</th>\n",
       "      <th>view</th>\n",
       "      <th>...</th>\n",
       "      <th>sqft_basement</th>\n",
       "      <th>yr_built</th>\n",
       "      <th>yr_renovated</th>\n",
       "      <th>zipcode</th>\n",
       "      <th>lat</th>\n",
       "      <th>long</th>\n",
       "      <th>m2</th>\n",
       "      <th>level</th>\n",
       "      <th>condition_type</th>\n",
       "      <th>house_age</th>\n",
       "    </tr>\n",
       "  </thead>\n",
       "  <tbody>\n",
       "    <tr>\n",
       "      <th>0</th>\n",
       "      <td>7129300520</td>\n",
       "      <td>2014-10-13</td>\n",
       "      <td>221900.0</td>\n",
       "      <td>3</td>\n",
       "      <td>1.00</td>\n",
       "      <td>1180</td>\n",
       "      <td>5650</td>\n",
       "      <td>1.0</td>\n",
       "      <td>0</td>\n",
       "      <td>0</td>\n",
       "      <td>...</td>\n",
       "      <td>0</td>\n",
       "      <td>1955-01-01</td>\n",
       "      <td>1900-01-01</td>\n",
       "      <td>98178</td>\n",
       "      <td>47.5112</td>\n",
       "      <td>-122.257</td>\n",
       "      <td>109.74</td>\n",
       "      <td>low_level</td>\n",
       "      <td>regular</td>\n",
       "      <td>new_house</td>\n",
       "    </tr>\n",
       "    <tr>\n",
       "      <th>1</th>\n",
       "      <td>6414100192</td>\n",
       "      <td>2014-12-09</td>\n",
       "      <td>538000.0</td>\n",
       "      <td>3</td>\n",
       "      <td>2.25</td>\n",
       "      <td>2570</td>\n",
       "      <td>7242</td>\n",
       "      <td>2.0</td>\n",
       "      <td>0</td>\n",
       "      <td>0</td>\n",
       "      <td>...</td>\n",
       "      <td>400</td>\n",
       "      <td>1951-01-01</td>\n",
       "      <td>1991-01-01</td>\n",
       "      <td>98125</td>\n",
       "      <td>47.7210</td>\n",
       "      <td>-122.319</td>\n",
       "      <td>239.01</td>\n",
       "      <td>low_level</td>\n",
       "      <td>regular</td>\n",
       "      <td>new_house</td>\n",
       "    </tr>\n",
       "    <tr>\n",
       "      <th>2</th>\n",
       "      <td>5631500400</td>\n",
       "      <td>2015-02-25</td>\n",
       "      <td>180000.0</td>\n",
       "      <td>2</td>\n",
       "      <td>1.00</td>\n",
       "      <td>770</td>\n",
       "      <td>10000</td>\n",
       "      <td>1.0</td>\n",
       "      <td>0</td>\n",
       "      <td>0</td>\n",
       "      <td>...</td>\n",
       "      <td>0</td>\n",
       "      <td>1933-01-01</td>\n",
       "      <td>1900-01-01</td>\n",
       "      <td>98028</td>\n",
       "      <td>47.7379</td>\n",
       "      <td>-122.233</td>\n",
       "      <td>71.61</td>\n",
       "      <td>low_level</td>\n",
       "      <td>regular</td>\n",
       "      <td>new_house</td>\n",
       "    </tr>\n",
       "    <tr>\n",
       "      <th>3</th>\n",
       "      <td>2487200875</td>\n",
       "      <td>2014-12-09</td>\n",
       "      <td>604000.0</td>\n",
       "      <td>4</td>\n",
       "      <td>3.00</td>\n",
       "      <td>1960</td>\n",
       "      <td>5000</td>\n",
       "      <td>1.0</td>\n",
       "      <td>0</td>\n",
       "      <td>0</td>\n",
       "      <td>...</td>\n",
       "      <td>910</td>\n",
       "      <td>1965-01-01</td>\n",
       "      <td>1900-01-01</td>\n",
       "      <td>98136</td>\n",
       "      <td>47.5208</td>\n",
       "      <td>-122.393</td>\n",
       "      <td>182.28</td>\n",
       "      <td>high_level</td>\n",
       "      <td>good</td>\n",
       "      <td>new_house</td>\n",
       "    </tr>\n",
       "    <tr>\n",
       "      <th>4</th>\n",
       "      <td>1954400510</td>\n",
       "      <td>2015-02-18</td>\n",
       "      <td>510000.0</td>\n",
       "      <td>3</td>\n",
       "      <td>2.00</td>\n",
       "      <td>1680</td>\n",
       "      <td>8080</td>\n",
       "      <td>1.0</td>\n",
       "      <td>0</td>\n",
       "      <td>0</td>\n",
       "      <td>...</td>\n",
       "      <td>0</td>\n",
       "      <td>1987-01-01</td>\n",
       "      <td>1900-01-01</td>\n",
       "      <td>98074</td>\n",
       "      <td>47.6168</td>\n",
       "      <td>-122.045</td>\n",
       "      <td>156.24</td>\n",
       "      <td>low_level</td>\n",
       "      <td>regular</td>\n",
       "      <td>new_house</td>\n",
       "    </tr>\n",
       "  </tbody>\n",
       "</table>\n",
       "<p>5 rows × 23 columns</p>\n",
       "</div>"
      ],
      "text/plain": [
       "           id       date     price  bedrooms  bathrooms  sqft_living  \\\n",
       "0  7129300520 2014-10-13  221900.0         3       1.00         1180   \n",
       "1  6414100192 2014-12-09  538000.0         3       2.25         2570   \n",
       "2  5631500400 2015-02-25  180000.0         2       1.00          770   \n",
       "3  2487200875 2014-12-09  604000.0         4       3.00         1960   \n",
       "4  1954400510 2015-02-18  510000.0         3       2.00         1680   \n",
       "\n",
       "   sqft_lot  floors  waterfront  view  ... sqft_basement   yr_built  \\\n",
       "0      5650     1.0           0     0  ...             0 1955-01-01   \n",
       "1      7242     2.0           0     0  ...           400 1951-01-01   \n",
       "2     10000     1.0           0     0  ...             0 1933-01-01   \n",
       "3      5000     1.0           0     0  ...           910 1965-01-01   \n",
       "4      8080     1.0           0     0  ...             0 1987-01-01   \n",
       "\n",
       "   yr_renovated  zipcode      lat     long      m2       level  \\\n",
       "0    1900-01-01    98178  47.5112 -122.257  109.74   low_level   \n",
       "1    1991-01-01    98125  47.7210 -122.319  239.01   low_level   \n",
       "2    1900-01-01    98028  47.7379 -122.233   71.61   low_level   \n",
       "3    1900-01-01    98136  47.5208 -122.393  182.28  high_level   \n",
       "4    1900-01-01    98074  47.6168 -122.045  156.24   low_level   \n",
       "\n",
       "   condition_type  house_age  \n",
       "0         regular  new_house  \n",
       "1         regular  new_house  \n",
       "2         regular  new_house  \n",
       "3            good  new_house  \n",
       "4         regular  new_house  \n",
       "\n",
       "[5 rows x 23 columns]"
      ]
     },
     "execution_count": 83,
     "metadata": {},
     "output_type": "execute_result"
    }
   ],
   "source": [
    "data['date'] = pd.to_datetime(data['date'], format='%Y-%m-%d')\n",
    "\n",
    "data['house_age'] = data['date'].apply(lambda x: 'new_house' if x > pd.to_datetime('2014-01-01', format='%Y-%m-%d') else 'old_house')\n",
    "\n",
    "#data['date'] = pd.to_datetime('2014-01-01', format='%Y-%m-%d')\n",
    "\n",
    "# #for iten in range(len(data)): \n",
    "    # if data.loc[iten, 'date'] > '2014-01-01':\n",
    "    #     data.loc[iten, 'house_age'] = 'new_house'\n",
    "            \n",
    "    # else: \n",
    "    #     data.loc[iten, 'house_age'] = 'old_house'\n",
    "\n",
    "data.head(5)"
   ]
  },
  {
   "cell_type": "markdown",
   "id": "6c7f29ba",
   "metadata": {},
   "source": [
    "### 2. Crie uma nova coluna chamada: ‘’dormitory_type’’\n",
    "    - Se o valor da coluna “bedrooms” for igual à 1 = “studio”\n",
    "    - Se o valor da coluna “bedrooms” for igual à 2 = “apartament”\n",
    "    - Se o valor da coluna “bedrooms” for maior que  2 = “house”"
   ]
  },
  {
   "cell_type": "code",
   "execution_count": 88,
   "id": "a36fd8e5",
   "metadata": {},
   "outputs": [],
   "source": [
    "data['domitory_type']= data['bedrooms'].apply(lambda x: 'studio' if x == 1 else 'apartament' if x == 2 else 'house' if x > 2 else 'NA')"
   ]
  },
  {
   "cell_type": "markdown",
   "id": "57751150",
   "metadata": {},
   "source": []
  },
  {
   "cell_type": "code",
   "execution_count": null,
   "id": "f58247ac",
   "metadata": {},
   "outputs": [],
   "source": [
    "# def classficacao_dormitory(data_frame):\n",
    "    \n",
    "\n",
    "\n",
    "#         if data_frame.loc['bedrooms'] == 1:\n",
    "#           data_frame.loc['dormitory_t2'] = 'studio'\n",
    "               \n",
    "\n",
    "#         elif data_frame.loc['bedrooms'] == 2:\n",
    "#           data_frame.loc['dormitory_t2'] = 'apartament'\n",
    "\n",
    "#         elif data_frame.loc['bedrooms'] == 0:\n",
    "#           data_frame.loc['dormitory_t2'] = 'NA'\n",
    "             \n",
    "#         else:\n",
    "#           data_frame.loc['dormitory_t2'] = 'house'\n",
    "\n"
   ]
  },
  {
   "cell_type": "code",
   "execution_count": null,
   "id": "08a54b1e",
   "metadata": {},
   "outputs": [
    {
     "data": {
      "text/html": [
       "<div>\n",
       "<style scoped>\n",
       "    .dataframe tbody tr th:only-of-type {\n",
       "        vertical-align: middle;\n",
       "    }\n",
       "\n",
       "    .dataframe tbody tr th {\n",
       "        vertical-align: top;\n",
       "    }\n",
       "\n",
       "    .dataframe thead th {\n",
       "        text-align: right;\n",
       "    }\n",
       "</style>\n",
       "<table border=\"1\" class=\"dataframe\">\n",
       "  <thead>\n",
       "    <tr style=\"text-align: right;\">\n",
       "      <th></th>\n",
       "      <th>id</th>\n",
       "      <th>date</th>\n",
       "      <th>price</th>\n",
       "      <th>bedrooms</th>\n",
       "      <th>bathrooms</th>\n",
       "      <th>sqft_living</th>\n",
       "      <th>sqft_lot</th>\n",
       "      <th>floors</th>\n",
       "      <th>waterfront</th>\n",
       "      <th>view</th>\n",
       "      <th>...</th>\n",
       "      <th>yr_renovated</th>\n",
       "      <th>zipcode</th>\n",
       "      <th>lat</th>\n",
       "      <th>long</th>\n",
       "      <th>sqft_living15</th>\n",
       "      <th>sqft_lot15</th>\n",
       "      <th>m2</th>\n",
       "      <th>level</th>\n",
       "      <th>dormitory_type</th>\n",
       "      <th>condition_type</th>\n",
       "    </tr>\n",
       "  </thead>\n",
       "  <tbody>\n",
       "    <tr>\n",
       "      <th>0</th>\n",
       "      <td>7129300520</td>\n",
       "      <td>2014-10-13</td>\n",
       "      <td>221900.0</td>\n",
       "      <td>3</td>\n",
       "      <td>1.00</td>\n",
       "      <td>1180</td>\n",
       "      <td>5650</td>\n",
       "      <td>1.0</td>\n",
       "      <td>0</td>\n",
       "      <td>0</td>\n",
       "      <td>...</td>\n",
       "      <td>0</td>\n",
       "      <td>98178</td>\n",
       "      <td>47.5112</td>\n",
       "      <td>-122.257</td>\n",
       "      <td>1340</td>\n",
       "      <td>5650</td>\n",
       "      <td>109.74</td>\n",
       "      <td>low_level</td>\n",
       "      <td>house</td>\n",
       "      <td>regular</td>\n",
       "    </tr>\n",
       "    <tr>\n",
       "      <th>1</th>\n",
       "      <td>6414100192</td>\n",
       "      <td>2014-12-09</td>\n",
       "      <td>538000.0</td>\n",
       "      <td>3</td>\n",
       "      <td>2.25</td>\n",
       "      <td>2570</td>\n",
       "      <td>7242</td>\n",
       "      <td>2.0</td>\n",
       "      <td>0</td>\n",
       "      <td>0</td>\n",
       "      <td>...</td>\n",
       "      <td>1991</td>\n",
       "      <td>98125</td>\n",
       "      <td>47.7210</td>\n",
       "      <td>-122.319</td>\n",
       "      <td>1690</td>\n",
       "      <td>7639</td>\n",
       "      <td>239.01</td>\n",
       "      <td>low_level</td>\n",
       "      <td>house</td>\n",
       "      <td>regular</td>\n",
       "    </tr>\n",
       "    <tr>\n",
       "      <th>2</th>\n",
       "      <td>5631500400</td>\n",
       "      <td>2015-02-25</td>\n",
       "      <td>180000.0</td>\n",
       "      <td>2</td>\n",
       "      <td>1.00</td>\n",
       "      <td>770</td>\n",
       "      <td>10000</td>\n",
       "      <td>1.0</td>\n",
       "      <td>0</td>\n",
       "      <td>0</td>\n",
       "      <td>...</td>\n",
       "      <td>0</td>\n",
       "      <td>98028</td>\n",
       "      <td>47.7379</td>\n",
       "      <td>-122.233</td>\n",
       "      <td>2720</td>\n",
       "      <td>8062</td>\n",
       "      <td>71.61</td>\n",
       "      <td>low_level</td>\n",
       "      <td>apartament</td>\n",
       "      <td>regular</td>\n",
       "    </tr>\n",
       "    <tr>\n",
       "      <th>3</th>\n",
       "      <td>2487200875</td>\n",
       "      <td>2014-12-09</td>\n",
       "      <td>604000.0</td>\n",
       "      <td>4</td>\n",
       "      <td>3.00</td>\n",
       "      <td>1960</td>\n",
       "      <td>5000</td>\n",
       "      <td>1.0</td>\n",
       "      <td>0</td>\n",
       "      <td>0</td>\n",
       "      <td>...</td>\n",
       "      <td>0</td>\n",
       "      <td>98136</td>\n",
       "      <td>47.5208</td>\n",
       "      <td>-122.393</td>\n",
       "      <td>1360</td>\n",
       "      <td>5000</td>\n",
       "      <td>182.28</td>\n",
       "      <td>high_level</td>\n",
       "      <td>house</td>\n",
       "      <td>good</td>\n",
       "    </tr>\n",
       "    <tr>\n",
       "      <th>4</th>\n",
       "      <td>1954400510</td>\n",
       "      <td>2015-02-18</td>\n",
       "      <td>510000.0</td>\n",
       "      <td>3</td>\n",
       "      <td>2.00</td>\n",
       "      <td>1680</td>\n",
       "      <td>8080</td>\n",
       "      <td>1.0</td>\n",
       "      <td>0</td>\n",
       "      <td>0</td>\n",
       "      <td>...</td>\n",
       "      <td>0</td>\n",
       "      <td>98074</td>\n",
       "      <td>47.6168</td>\n",
       "      <td>-122.045</td>\n",
       "      <td>1800</td>\n",
       "      <td>7503</td>\n",
       "      <td>156.24</td>\n",
       "      <td>low_level</td>\n",
       "      <td>house</td>\n",
       "      <td>regular</td>\n",
       "    </tr>\n",
       "  </tbody>\n",
       "</table>\n",
       "<p>5 rows × 25 columns</p>\n",
       "</div>"
      ],
      "text/plain": [
       "           id        date     price  bedrooms  bathrooms  sqft_living  \\\n",
       "0  7129300520  2014-10-13  221900.0         3       1.00         1180   \n",
       "1  6414100192  2014-12-09  538000.0         3       2.25         2570   \n",
       "2  5631500400  2015-02-25  180000.0         2       1.00          770   \n",
       "3  2487200875  2014-12-09  604000.0         4       3.00         1960   \n",
       "4  1954400510  2015-02-18  510000.0         3       2.00         1680   \n",
       "\n",
       "   sqft_lot  floors  waterfront  view  ... yr_renovated  zipcode      lat  \\\n",
       "0      5650     1.0           0     0  ...            0    98178  47.5112   \n",
       "1      7242     2.0           0     0  ...         1991    98125  47.7210   \n",
       "2     10000     1.0           0     0  ...            0    98028  47.7379   \n",
       "3      5000     1.0           0     0  ...            0    98136  47.5208   \n",
       "4      8080     1.0           0     0  ...            0    98074  47.6168   \n",
       "\n",
       "      long  sqft_living15  sqft_lot15      m2       level  dormitory_type  \\\n",
       "0 -122.257           1340        5650  109.74   low_level           house   \n",
       "1 -122.319           1690        7639  239.01   low_level           house   \n",
       "2 -122.233           2720        8062   71.61   low_level      apartament   \n",
       "3 -122.393           1360        5000  182.28  high_level           house   \n",
       "4 -122.045           1800        7503  156.24   low_level           house   \n",
       "\n",
       "   condition_type  \n",
       "0         regular  \n",
       "1         regular  \n",
       "2         regular  \n",
       "3            good  \n",
       "4         regular  \n",
       "\n",
       "[5 rows x 25 columns]"
      ]
     },
     "execution_count": 100,
     "metadata": {},
     "output_type": "execute_result"
    }
   ],
   "source": [
    "data.head()"
   ]
  },
  {
   "cell_type": "code",
   "execution_count": null,
   "id": "bff1e05f",
   "metadata": {},
   "outputs": [],
   "source": [
    "#data[['dormitory_t2']] = data[2].apply(classficacao_dormitory(data))"
   ]
  },
  {
   "cell_type": "markdown",
   "id": "21188f13",
   "metadata": {},
   "source": [
    "### 3. Crie uma nova coluna chamada: “condition_type”\n",
    "- Se o valor da coluna “condition for menor ou igual à 2 ” = “bad”\n",
    "- Se o valor da coluna “condition” for igual a 3 ou 4 = regular\n",
    "- Se o valor da coluna “condition” for igual á 5 = “good"
   ]
  },
  {
   "cell_type": "code",
   "execution_count": 66,
   "id": "d54aca8a",
   "metadata": {},
   "outputs": [],
   "source": [
    "\n",
    "data['condition_type'] = data['condition'].apply(lambda x: 'bad' if x <= 2 else 'regular' if (x == 3) or (x == 4) else 'good')"
   ]
  },
  {
   "cell_type": "code",
   "execution_count": 67,
   "id": "456bc58d",
   "metadata": {},
   "outputs": [
    {
     "data": {
      "text/html": [
       "<div>\n",
       "<style scoped>\n",
       "    .dataframe tbody tr th:only-of-type {\n",
       "        vertical-align: middle;\n",
       "    }\n",
       "\n",
       "    .dataframe tbody tr th {\n",
       "        vertical-align: top;\n",
       "    }\n",
       "\n",
       "    .dataframe thead th {\n",
       "        text-align: right;\n",
       "    }\n",
       "</style>\n",
       "<table border=\"1\" class=\"dataframe\">\n",
       "  <thead>\n",
       "    <tr style=\"text-align: right;\">\n",
       "      <th></th>\n",
       "      <th>id</th>\n",
       "      <th>date</th>\n",
       "      <th>price</th>\n",
       "      <th>bedrooms</th>\n",
       "      <th>bathrooms</th>\n",
       "      <th>sqft_living</th>\n",
       "      <th>sqft_lot</th>\n",
       "      <th>floors</th>\n",
       "      <th>waterfront</th>\n",
       "      <th>view</th>\n",
       "      <th>...</th>\n",
       "      <th>yr_built</th>\n",
       "      <th>yr_renovated</th>\n",
       "      <th>zipcode</th>\n",
       "      <th>lat</th>\n",
       "      <th>long</th>\n",
       "      <th>sqft_living15</th>\n",
       "      <th>sqft_lot15</th>\n",
       "      <th>m2</th>\n",
       "      <th>level</th>\n",
       "      <th>condition_type</th>\n",
       "    </tr>\n",
       "  </thead>\n",
       "  <tbody>\n",
       "    <tr>\n",
       "      <th>0</th>\n",
       "      <td>7129300520</td>\n",
       "      <td>2014-10-13</td>\n",
       "      <td>221900.0</td>\n",
       "      <td>3</td>\n",
       "      <td>1.00</td>\n",
       "      <td>1180</td>\n",
       "      <td>5650</td>\n",
       "      <td>1.0</td>\n",
       "      <td>0</td>\n",
       "      <td>0</td>\n",
       "      <td>...</td>\n",
       "      <td>1955</td>\n",
       "      <td>0</td>\n",
       "      <td>98178</td>\n",
       "      <td>47.5112</td>\n",
       "      <td>-122.257</td>\n",
       "      <td>1340</td>\n",
       "      <td>5650</td>\n",
       "      <td>109.74</td>\n",
       "      <td>low_level</td>\n",
       "      <td>regular</td>\n",
       "    </tr>\n",
       "    <tr>\n",
       "      <th>1</th>\n",
       "      <td>6414100192</td>\n",
       "      <td>2014-12-09</td>\n",
       "      <td>538000.0</td>\n",
       "      <td>3</td>\n",
       "      <td>2.25</td>\n",
       "      <td>2570</td>\n",
       "      <td>7242</td>\n",
       "      <td>2.0</td>\n",
       "      <td>0</td>\n",
       "      <td>0</td>\n",
       "      <td>...</td>\n",
       "      <td>1951</td>\n",
       "      <td>1991</td>\n",
       "      <td>98125</td>\n",
       "      <td>47.7210</td>\n",
       "      <td>-122.319</td>\n",
       "      <td>1690</td>\n",
       "      <td>7639</td>\n",
       "      <td>239.01</td>\n",
       "      <td>low_level</td>\n",
       "      <td>regular</td>\n",
       "    </tr>\n",
       "    <tr>\n",
       "      <th>2</th>\n",
       "      <td>5631500400</td>\n",
       "      <td>2015-02-25</td>\n",
       "      <td>180000.0</td>\n",
       "      <td>2</td>\n",
       "      <td>1.00</td>\n",
       "      <td>770</td>\n",
       "      <td>10000</td>\n",
       "      <td>1.0</td>\n",
       "      <td>0</td>\n",
       "      <td>0</td>\n",
       "      <td>...</td>\n",
       "      <td>1933</td>\n",
       "      <td>0</td>\n",
       "      <td>98028</td>\n",
       "      <td>47.7379</td>\n",
       "      <td>-122.233</td>\n",
       "      <td>2720</td>\n",
       "      <td>8062</td>\n",
       "      <td>71.61</td>\n",
       "      <td>low_level</td>\n",
       "      <td>regular</td>\n",
       "    </tr>\n",
       "    <tr>\n",
       "      <th>3</th>\n",
       "      <td>2487200875</td>\n",
       "      <td>2014-12-09</td>\n",
       "      <td>604000.0</td>\n",
       "      <td>4</td>\n",
       "      <td>3.00</td>\n",
       "      <td>1960</td>\n",
       "      <td>5000</td>\n",
       "      <td>1.0</td>\n",
       "      <td>0</td>\n",
       "      <td>0</td>\n",
       "      <td>...</td>\n",
       "      <td>1965</td>\n",
       "      <td>0</td>\n",
       "      <td>98136</td>\n",
       "      <td>47.5208</td>\n",
       "      <td>-122.393</td>\n",
       "      <td>1360</td>\n",
       "      <td>5000</td>\n",
       "      <td>182.28</td>\n",
       "      <td>high_level</td>\n",
       "      <td>good</td>\n",
       "    </tr>\n",
       "    <tr>\n",
       "      <th>4</th>\n",
       "      <td>1954400510</td>\n",
       "      <td>2015-02-18</td>\n",
       "      <td>510000.0</td>\n",
       "      <td>3</td>\n",
       "      <td>2.00</td>\n",
       "      <td>1680</td>\n",
       "      <td>8080</td>\n",
       "      <td>1.0</td>\n",
       "      <td>0</td>\n",
       "      <td>0</td>\n",
       "      <td>...</td>\n",
       "      <td>1987</td>\n",
       "      <td>0</td>\n",
       "      <td>98074</td>\n",
       "      <td>47.6168</td>\n",
       "      <td>-122.045</td>\n",
       "      <td>1800</td>\n",
       "      <td>7503</td>\n",
       "      <td>156.24</td>\n",
       "      <td>low_level</td>\n",
       "      <td>regular</td>\n",
       "    </tr>\n",
       "  </tbody>\n",
       "</table>\n",
       "<p>5 rows × 24 columns</p>\n",
       "</div>"
      ],
      "text/plain": [
       "           id        date     price  bedrooms  bathrooms  sqft_living  \\\n",
       "0  7129300520  2014-10-13  221900.0         3       1.00         1180   \n",
       "1  6414100192  2014-12-09  538000.0         3       2.25         2570   \n",
       "2  5631500400  2015-02-25  180000.0         2       1.00          770   \n",
       "3  2487200875  2014-12-09  604000.0         4       3.00         1960   \n",
       "4  1954400510  2015-02-18  510000.0         3       2.00         1680   \n",
       "\n",
       "   sqft_lot  floors  waterfront  view  ...  yr_built  yr_renovated  zipcode  \\\n",
       "0      5650     1.0           0     0  ...      1955             0    98178   \n",
       "1      7242     2.0           0     0  ...      1951          1991    98125   \n",
       "2     10000     1.0           0     0  ...      1933             0    98028   \n",
       "3      5000     1.0           0     0  ...      1965             0    98136   \n",
       "4      8080     1.0           0     0  ...      1987             0    98074   \n",
       "\n",
       "       lat     long  sqft_living15  sqft_lot15      m2       level  \\\n",
       "0  47.5112 -122.257           1340        5650  109.74   low_level   \n",
       "1  47.7210 -122.319           1690        7639  239.01   low_level   \n",
       "2  47.7379 -122.233           2720        8062   71.61   low_level   \n",
       "3  47.5208 -122.393           1360        5000  182.28  high_level   \n",
       "4  47.6168 -122.045           1800        7503  156.24   low_level   \n",
       "\n",
       "   condition_type  \n",
       "0         regular  \n",
       "1         regular  \n",
       "2         regular  \n",
       "3            good  \n",
       "4         regular  \n",
       "\n",
       "[5 rows x 24 columns]"
      ]
     },
     "execution_count": 67,
     "metadata": {},
     "output_type": "execute_result"
    }
   ],
   "source": [
    "data.head()"
   ]
  },
  {
   "cell_type": "markdown",
   "id": "1a971b09",
   "metadata": {},
   "source": [
    "### 4. Modifique o TIPO a coluna “condition” para STRING"
   ]
  },
  {
   "cell_type": "code",
   "execution_count": 68,
   "id": "248f6250",
   "metadata": {},
   "outputs": [],
   "source": [
    "data['condition'] = data['condition'].astype(str)\n"
   ]
  },
  {
   "cell_type": "markdown",
   "id": "9b12f9bf",
   "metadata": {},
   "source": [
    "###  5. Delete as colunas: “sqft_living15” e “sqft_lot15”"
   ]
  },
  {
   "cell_type": "code",
   "execution_count": 69,
   "id": "ec487114",
   "metadata": {},
   "outputs": [],
   "source": [
    "data.drop(['sqft_living15', 'sqft_lot15'], inplace= True , axis = 1)"
   ]
  },
  {
   "cell_type": "code",
   "execution_count": 70,
   "id": "d428d59f",
   "metadata": {},
   "outputs": [
    {
     "data": {
      "text/plain": [
       "0        1955\n",
       "1        1951\n",
       "2        1933\n",
       "3        1965\n",
       "4        1987\n",
       "         ... \n",
       "21608    2009\n",
       "21609    2014\n",
       "21610    2009\n",
       "21611    2004\n",
       "21612    2008\n",
       "Name: yr_built, Length: 21613, dtype: int64"
      ]
     },
     "execution_count": 70,
     "metadata": {},
     "output_type": "execute_result"
    }
   ],
   "source": [
    "data['yr_built']"
   ]
  },
  {
   "cell_type": "markdown",
   "id": "815fc75a",
   "metadata": {},
   "source": [
    "### 6.  Modifique o TIPO a Coluna “yr_built” para Date"
   ]
  },
  {
   "cell_type": "code",
   "execution_count": 71,
   "id": "920ceb61",
   "metadata": {},
   "outputs": [],
   "source": [
    "## transformando coluna yr_built do tipo int para date \n",
    "\n",
    "\n",
    "data['yr_built'] = pd.to_datetime(data['yr_built'], format='%Y')\n",
    "# data['yr_built'] = pd.to_datetime(data['yr_built'], format='%Y').dt.year\n",
    "\n"
   ]
  },
  {
   "cell_type": "code",
   "execution_count": 72,
   "id": "b48d8734",
   "metadata": {},
   "outputs": [
    {
     "data": {
      "text/plain": [
       "0       1955-01-01\n",
       "1       1951-01-01\n",
       "2       1933-01-01\n",
       "3       1965-01-01\n",
       "4       1987-01-01\n",
       "           ...    \n",
       "21608   2009-01-01\n",
       "21609   2014-01-01\n",
       "21610   2009-01-01\n",
       "21611   2004-01-01\n",
       "21612   2008-01-01\n",
       "Name: yr_built, Length: 21613, dtype: datetime64[ns]"
      ]
     },
     "execution_count": 72,
     "metadata": {},
     "output_type": "execute_result"
    }
   ],
   "source": [
    "data['yr_built']\n"
   ]
  },
  {
   "cell_type": "markdown",
   "id": "f0f288bd",
   "metadata": {},
   "source": [
    "### 7.Modifique o TIPO a Coluna “yr_renovated” para Date"
   ]
  },
  {
   "cell_type": "code",
   "execution_count": 73,
   "id": "d8776fde",
   "metadata": {},
   "outputs": [],
   "source": [
    "## Utilizando a função lambda para modificar os dados , pois caso a data seja igual a zero é preciso formatar para que se torne dado do tipo data\n",
    "\n",
    "data['yr_renovated'] = data['yr_renovated'].apply(lambda x:  pd.to_datetime('1900-01-01', format= '%Y-%m-%d') if x == 0 else pd.to_datetime(x, format= '%Y'))"
   ]
  },
  {
   "cell_type": "code",
   "execution_count": 74,
   "id": "9ddafcb0",
   "metadata": {},
   "outputs": [
    {
     "data": {
      "text/plain": [
       "0       1900-01-01\n",
       "1       1991-01-01\n",
       "2       1900-01-01\n",
       "3       1900-01-01\n",
       "4       1900-01-01\n",
       "           ...    \n",
       "21608   1900-01-01\n",
       "21609   1900-01-01\n",
       "21610   1900-01-01\n",
       "21611   1900-01-01\n",
       "21612   1900-01-01\n",
       "Name: yr_renovated, Length: 21613, dtype: datetime64[ns]"
      ]
     },
     "execution_count": 74,
     "metadata": {},
     "output_type": "execute_result"
    }
   ],
   "source": [
    "data['yr_renovated']"
   ]
  },
  {
   "cell_type": "markdown",
   "id": "7836bf62",
   "metadata": {},
   "source": [
    "### 8. Qual a data mais antiga de construção de imóvel ? "
   ]
  },
  {
   "cell_type": "code",
   "execution_count": 75,
   "id": "198db0d4",
   "metadata": {},
   "outputs": [
    {
     "name": "stdout",
     "output_type": "stream",
     "text": [
      "O imóvel mais antigo tem a data 1900-01-01 00:00:00\n"
     ]
    }
   ],
   "source": [
    "\n",
    "resultado_built_antiga = data['yr_built'].min()\n",
    "print(f'O imóvel mais antigo tem a data {resultado_built_antiga}')"
   ]
  },
  {
   "cell_type": "markdown",
   "id": "554fd8ff",
   "metadata": {},
   "source": [
    "### 9.Qual a data mais antiga de renovação de um imóvel ?"
   ]
  },
  {
   "cell_type": "code",
   "execution_count": 76,
   "id": "03c10970",
   "metadata": {},
   "outputs": [
    {
     "name": "stdout",
     "output_type": "stream",
     "text": [
      "O imóvel mais antigo a ser renovado foi 1934-01-01 00:00:00\n"
     ]
    }
   ],
   "source": [
    "## primeiro vamos filtrar todas as datas que foram diferentes de zero pois 1900 -01-01 é data das casa que não tiveram renovação \n",
    "### depois que filtrou para todos imóveis que tiveram renovação , é filtrar pelo mais antigo.\n",
    "\n",
    "resultado_renovated_antiga = data.loc[data['yr_renovated'] != pd.to_datetime('1900-01-01', format= '%Y-%m-%d'), 'yr_renovated'].min()\n",
    "\n",
    "print(f'O imóvel mais antigo a ser renovado foi {resultado_renovated_antiga}')"
   ]
  },
  {
   "cell_type": "markdown",
   "id": "570c5139",
   "metadata": {},
   "source": [
    "### 10. Quantos imóveis tem 2 andares ? "
   ]
  },
  {
   "cell_type": "code",
   "execution_count": 77,
   "id": "be2e2b9f",
   "metadata": {},
   "outputs": [
    {
     "name": "stdout",
     "output_type": "stream",
     "text": [
      "O número de imóveis com 2 andares é 8241\n"
     ]
    }
   ],
   "source": [
    "imoveis_com_2_andares = (data['floors'] == 2).sum()\n",
    "\n",
    "print(f'O número de imóveis com 2 andares é {imoveis_com_2_andares}')"
   ]
  },
  {
   "cell_type": "markdown",
   "id": "bf628213",
   "metadata": {},
   "source": [
    "### 11. Quantos imóveis estão com a condição igual a ‘regular’ ?"
   ]
  },
  {
   "cell_type": "code",
   "execution_count": 91,
   "id": "cf93da84",
   "metadata": {},
   "outputs": [
    {
     "name": "stdout",
     "output_type": "stream",
     "text": [
      "O número de imóveis na condição regular é 19710\n"
     ]
    }
   ],
   "source": [
    "result_11 = data.loc[data['condition_type'] == 'regular','id'].size\n",
    "print(f'O número de imóveis na condição regular é {result_11}')"
   ]
  },
  {
   "cell_type": "markdown",
   "id": "620cd97f",
   "metadata": {},
   "source": [
    "### 12. Quantos imóveis estão com a condição igual a ‘bad’ e possue “vista para água ” ?"
   ]
  },
  {
   "cell_type": "code",
   "execution_count": 92,
   "id": "416be5d1",
   "metadata": {},
   "outputs": [
    {
     "name": "stdout",
     "output_type": "stream",
     "text": [
      "O número de imóveis nas condições bad e com vista para água é 2\n"
     ]
    }
   ],
   "source": [
    "result_12 = data.loc[(data['condition_type'] == 'bad') & (data['waterfront'] == 1), 'id'].size\n",
    "\n",
    "print(f'O número de imóveis nas condições bad e com vista para água é {result_12}')"
   ]
  },
  {
   "cell_type": "markdown",
   "id": "1cfe76da",
   "metadata": {},
   "source": [
    "#### 13. Quantos imóveis estão com a condição igual a ‘good’ e são ‘new_house’ ?"
   ]
  },
  {
   "cell_type": "code",
   "execution_count": 93,
   "id": "a86d62d7",
   "metadata": {},
   "outputs": [
    {
     "name": "stdout",
     "output_type": "stream",
     "text": [
      "O número de imóveis que são novos e com condição boa são de 1701\n"
     ]
    }
   ],
   "source": [
    "result_13 = data.loc[(data['condition_type'] == 'good') & (data['house_age'] == 'new_house'),'id'].size\n",
    "\n",
    "print(f'O número de imóveis que são novos e com condição boa são de {result_13}')"
   ]
  },
  {
   "cell_type": "markdown",
   "id": "26e85e0d",
   "metadata": {},
   "source": [
    "### 14. Qual o valor do imóvel mais caro do tipo ‘studio’ ? "
   ]
  },
  {
   "cell_type": "code",
   "execution_count": 95,
   "id": "ea7bd6c4",
   "metadata": {},
   "outputs": [
    {
     "name": "stdout",
     "output_type": "stream",
     "text": [
      "O imóvel mais caro do tipo studio possui valor de  1247000.0 R$\n"
     ]
    }
   ],
   "source": [
    "\n",
    "result_14 = data.loc[data ['domitory_type'] == 'studio', 'price'].max()\n",
    "\n",
    "print(f'O imóvel mais caro do tipo studio possui valor de  {result_14} R$')"
   ]
  },
  {
   "cell_type": "markdown",
   "id": "817fc55a",
   "metadata": {},
   "source": [
    "### 15. Quantos imóveis do tipo ‘apartament’ foram reformados em 2015 ? "
   ]
  },
  {
   "cell_type": "code",
   "execution_count": 108,
   "id": "12daa9fe",
   "metadata": {},
   "outputs": [
    {
     "name": "stdout",
     "output_type": "stream",
     "text": [
      "O número de imóveis do tipo apartament que foram reformados em 2015 é 0\n"
     ]
    }
   ],
   "source": [
    "result_15 = data.loc[(data['domitory_type'] == 'apartament') & (data['yr_renovated'] == pd.to_datetime('2015-01-01')), 'id'].size\n",
    "\n",
    "print(f'O número de imóveis do tipo apartament que foram reformados em 2015 é {result_15}')"
   ]
  },
  {
   "cell_type": "markdown",
   "id": "6eaa604d",
   "metadata": {},
   "source": [
    "### 16. Qual o maior número de quartos que imóvel do tipo ‘house’ possui ? "
   ]
  },
  {
   "cell_type": "code",
   "execution_count": 109,
   "id": "7ac5684b",
   "metadata": {},
   "outputs": [
    {
     "data": {
      "text/plain": [
       "33"
      ]
     },
     "execution_count": 109,
     "metadata": {},
     "output_type": "execute_result"
    }
   ],
   "source": [
    "data.loc[(data['domitory_type'] == 'house'), 'bedrooms'].max()"
   ]
  },
  {
   "cell_type": "markdown",
   "id": "ed4ba270",
   "metadata": {},
   "source": [
    "#### 17. Quantos imóveis ‘new_house’ foram reformados no ano de 2014 ?"
   ]
  },
  {
   "cell_type": "code",
   "execution_count": 113,
   "id": "a420141f",
   "metadata": {},
   "outputs": [
    {
     "name": "stdout",
     "output_type": "stream",
     "text": [
      "O número de imóveis novos que foram reformados em 2014 é de 91 imóveis\n"
     ]
    }
   ],
   "source": [
    "result_17 = data.loc[(data['house_age'] == 'new_house') & (data['yr_renovated'] == pd.to_datetime('2014-01-01')), 'id'].size\n",
    "\n",
    "print(f'O número de imóveis novos que foram reformados em 2014 é de {result_17} imóveis' )"
   ]
  },
  {
   "cell_type": "markdown",
   "id": "ed73928e",
   "metadata": {},
   "source": [
    "### 18. Seleciona as colunas:  ‘id’ , ‘date’ , ‘price ’, ‘floors’ , ‘zipcode’ pelo método: \n",
    "    \n",
    "     - Direto pelo nome das colunas \n",
    "    \n",
    "     - Direto pelo índices \n",
    "    \n",
    "     - Pelos índices das linhas e nomes das colunas \n",
    "    \n",
    "     - Indicies booleanos"
   ]
  },
  {
   "cell_type": "code",
   "execution_count": 119,
   "id": "642a280d",
   "metadata": {},
   "outputs": [
    {
     "data": {
      "text/html": [
       "<div>\n",
       "<style scoped>\n",
       "    .dataframe tbody tr th:only-of-type {\n",
       "        vertical-align: middle;\n",
       "    }\n",
       "\n",
       "    .dataframe tbody tr th {\n",
       "        vertical-align: top;\n",
       "    }\n",
       "\n",
       "    .dataframe thead th {\n",
       "        text-align: right;\n",
       "    }\n",
       "</style>\n",
       "<table border=\"1\" class=\"dataframe\">\n",
       "  <thead>\n",
       "    <tr style=\"text-align: right;\">\n",
       "      <th></th>\n",
       "      <th>id</th>\n",
       "      <th>date</th>\n",
       "      <th>price</th>\n",
       "      <th>floors</th>\n",
       "      <th>zipcode</th>\n",
       "    </tr>\n",
       "  </thead>\n",
       "  <tbody>\n",
       "    <tr>\n",
       "      <th>0</th>\n",
       "      <td>7129300520</td>\n",
       "      <td>2014-10-13</td>\n",
       "      <td>221900.0</td>\n",
       "      <td>1.0</td>\n",
       "      <td>98178</td>\n",
       "    </tr>\n",
       "    <tr>\n",
       "      <th>1</th>\n",
       "      <td>6414100192</td>\n",
       "      <td>2014-12-09</td>\n",
       "      <td>538000.0</td>\n",
       "      <td>2.0</td>\n",
       "      <td>98125</td>\n",
       "    </tr>\n",
       "    <tr>\n",
       "      <th>2</th>\n",
       "      <td>5631500400</td>\n",
       "      <td>2015-02-25</td>\n",
       "      <td>180000.0</td>\n",
       "      <td>1.0</td>\n",
       "      <td>98028</td>\n",
       "    </tr>\n",
       "    <tr>\n",
       "      <th>3</th>\n",
       "      <td>2487200875</td>\n",
       "      <td>2014-12-09</td>\n",
       "      <td>604000.0</td>\n",
       "      <td>1.0</td>\n",
       "      <td>98136</td>\n",
       "    </tr>\n",
       "    <tr>\n",
       "      <th>4</th>\n",
       "      <td>1954400510</td>\n",
       "      <td>2015-02-18</td>\n",
       "      <td>510000.0</td>\n",
       "      <td>1.0</td>\n",
       "      <td>98074</td>\n",
       "    </tr>\n",
       "    <tr>\n",
       "      <th>5</th>\n",
       "      <td>7237550310</td>\n",
       "      <td>2014-05-12</td>\n",
       "      <td>1225000.0</td>\n",
       "      <td>1.0</td>\n",
       "      <td>98053</td>\n",
       "    </tr>\n",
       "    <tr>\n",
       "      <th>6</th>\n",
       "      <td>1321400060</td>\n",
       "      <td>2014-06-27</td>\n",
       "      <td>257500.0</td>\n",
       "      <td>2.0</td>\n",
       "      <td>98003</td>\n",
       "    </tr>\n",
       "    <tr>\n",
       "      <th>7</th>\n",
       "      <td>2008000270</td>\n",
       "      <td>2015-01-15</td>\n",
       "      <td>291850.0</td>\n",
       "      <td>1.0</td>\n",
       "      <td>98198</td>\n",
       "    </tr>\n",
       "    <tr>\n",
       "      <th>8</th>\n",
       "      <td>2414600126</td>\n",
       "      <td>2015-04-15</td>\n",
       "      <td>229500.0</td>\n",
       "      <td>1.0</td>\n",
       "      <td>98146</td>\n",
       "    </tr>\n",
       "    <tr>\n",
       "      <th>9</th>\n",
       "      <td>3793500160</td>\n",
       "      <td>2015-03-12</td>\n",
       "      <td>323000.0</td>\n",
       "      <td>2.0</td>\n",
       "      <td>98038</td>\n",
       "    </tr>\n",
       "  </tbody>\n",
       "</table>\n",
       "</div>"
      ],
      "text/plain": [
       "           id       date      price  floors  zipcode\n",
       "0  7129300520 2014-10-13   221900.0     1.0    98178\n",
       "1  6414100192 2014-12-09   538000.0     2.0    98125\n",
       "2  5631500400 2015-02-25   180000.0     1.0    98028\n",
       "3  2487200875 2014-12-09   604000.0     1.0    98136\n",
       "4  1954400510 2015-02-18   510000.0     1.0    98074\n",
       "5  7237550310 2014-05-12  1225000.0     1.0    98053\n",
       "6  1321400060 2014-06-27   257500.0     2.0    98003\n",
       "7  2008000270 2015-01-15   291850.0     1.0    98198\n",
       "8  2414600126 2015-04-15   229500.0     1.0    98146\n",
       "9  3793500160 2015-03-12   323000.0     2.0    98038"
      ]
     },
     "execution_count": 119,
     "metadata": {},
     "output_type": "execute_result"
    }
   ],
   "source": [
    "#### selecionando pelo nome das colunas \n",
    "\n",
    "#data[['id', 'date', 'price', 'floors', 'zipcode']]\n",
    "\n",
    "### selecionando pelo método de índices \n",
    "# data.iloc[:, [0,1,2,7,16]]\n",
    "\n",
    "\n",
    "### selecionando pelo índices das linhas e indices de colunas \n",
    "\n",
    "# data.iloc[0:10, 0:4]\n",
    "\n",
    "# selecionando as colunas utilizando índices booleanos\n",
    "# data.iloc[0:10 , [True, True, True, False, False, False,\n",
    "    #    False, True, False, False, False, False,\n",
    "    #    False, False, False, False, True,\n",
    "    #    False, False, False, False, False, False,\n",
    "    #    False]]\n",
    "\n"
   ]
  },
  {
   "cell_type": "markdown",
   "id": "7764309b",
   "metadata": {},
   "source": [
    "### 19. Salve um arquivo .csv com somente as colunas house_age , dormitory_type , condition_type"
   ]
  },
  {
   "cell_type": "code",
   "execution_count": 121,
   "id": "f5adb738",
   "metadata": {},
   "outputs": [],
   "source": [
    "data[['houSse_age','domitory_type', 'condition_type']].to_csv('exercicio_modulo_02_quest_19.csv')"
   ]
  },
  {
   "cell_type": "code",
   "execution_count": null,
   "id": "bcf53a93",
   "metadata": {},
   "outputs": [],
   "source": []
  }
 ],
 "metadata": {
  "interpreter": {
   "hash": "09a60b90cbd013c7879ff739d8e151f1d93574ec53333bac4c277cd584eb0085"
  },
  "kernelspec": {
   "display_name": "Python 3.8.6 64-bit",
   "language": "python",
   "name": "python3"
  },
  "language_info": {
   "codemirror_mode": {
    "name": "ipython",
    "version": 3
   },
   "file_extension": ".py",
   "mimetype": "text/x-python",
   "name": "python",
   "nbconvert_exporter": "python",
   "pygments_lexer": "ipython3",
   "version": "3.8.6"
  }
 },
 "nbformat": 4,
 "nbformat_minor": 5
}
